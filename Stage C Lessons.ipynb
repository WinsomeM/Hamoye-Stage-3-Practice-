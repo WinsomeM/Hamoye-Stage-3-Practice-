{
 "cells": [
  {
   "cell_type": "markdown",
   "metadata": {},
   "source": [
    "# Stage C Lesson 1 Linear Classification and Logistics Regression"
   ]
  },
  {
   "cell_type": "code",
   "execution_count": 1,
   "metadata": {},
   "outputs": [],
   "source": [
    "import pandas as pd\n",
    "import numpy as np\n",
    "import seaborn as sns\n",
    "import matplotlib.pyplot as plt"
   ]
  },
  {
   "cell_type": "code",
   "execution_count": 2,
   "metadata": {
    "scrolled": true
   },
   "outputs": [
    {
     "name": "stderr",
     "output_type": "stream",
     "text": [
      "C:\\Users\\solas\\anaconda3\\lib\\site-packages\\IPython\\core\\interactiveshell.py:3146: DtypeWarning: Columns (6) have mixed types.Specify dtype option on import or set low_memory=False.\n",
      "  interactivity=interactivity, compiler=compiler, result=result)\n"
     ]
    },
    {
     "data": {
      "text/html": [
       "<div>\n",
       "<style scoped>\n",
       "    .dataframe tbody tr th:only-of-type {\n",
       "        vertical-align: middle;\n",
       "    }\n",
       "\n",
       "    .dataframe tbody tr th {\n",
       "        vertical-align: top;\n",
       "    }\n",
       "\n",
       "    .dataframe thead th {\n",
       "        text-align: right;\n",
       "    }\n",
       "</style>\n",
       "<table border=\"1\" class=\"dataframe\">\n",
       "  <thead>\n",
       "    <tr style=\"text-align: right;\">\n",
       "      <th></th>\n",
       "      <th>country</th>\n",
       "      <th>year</th>\n",
       "      <th>country_code</th>\n",
       "      <th>record</th>\n",
       "      <th>crop_land</th>\n",
       "      <th>grazing_land</th>\n",
       "      <th>forest_land</th>\n",
       "      <th>fishing_ground</th>\n",
       "      <th>built_up_land</th>\n",
       "      <th>carbon</th>\n",
       "      <th>total</th>\n",
       "      <th>QScore</th>\n",
       "    </tr>\n",
       "  </thead>\n",
       "  <tbody>\n",
       "    <tr>\n",
       "      <th>0</th>\n",
       "      <td>Armenia</td>\n",
       "      <td>1992</td>\n",
       "      <td>1</td>\n",
       "      <td>AreaPerCap</td>\n",
       "      <td>0.140292</td>\n",
       "      <td>0.199546</td>\n",
       "      <td>0.097188051</td>\n",
       "      <td>0.036888</td>\n",
       "      <td>0.029320</td>\n",
       "      <td>0.000000</td>\n",
       "      <td>5.032351e-01</td>\n",
       "      <td>3A</td>\n",
       "    </tr>\n",
       "    <tr>\n",
       "      <th>1</th>\n",
       "      <td>Armenia</td>\n",
       "      <td>1992</td>\n",
       "      <td>1</td>\n",
       "      <td>AreaTotHA</td>\n",
       "      <td>483000.000000</td>\n",
       "      <td>687000.000000</td>\n",
       "      <td>334600</td>\n",
       "      <td>127000.000000</td>\n",
       "      <td>100943.000800</td>\n",
       "      <td>0.000000</td>\n",
       "      <td>1.732543e+06</td>\n",
       "      <td>3A</td>\n",
       "    </tr>\n",
       "    <tr>\n",
       "      <th>2</th>\n",
       "      <td>Armenia</td>\n",
       "      <td>1992</td>\n",
       "      <td>1</td>\n",
       "      <td>BiocapPerCap</td>\n",
       "      <td>0.159804</td>\n",
       "      <td>0.135261</td>\n",
       "      <td>0.084003213</td>\n",
       "      <td>0.013742</td>\n",
       "      <td>0.033398</td>\n",
       "      <td>0.000000</td>\n",
       "      <td>4.262086e-01</td>\n",
       "      <td>3A</td>\n",
       "    </tr>\n",
       "    <tr>\n",
       "      <th>3</th>\n",
       "      <td>Armenia</td>\n",
       "      <td>1992</td>\n",
       "      <td>1</td>\n",
       "      <td>BiocapTotGHA</td>\n",
       "      <td>550176.242700</td>\n",
       "      <td>465677.972200</td>\n",
       "      <td>289207.1078</td>\n",
       "      <td>47311.551720</td>\n",
       "      <td>114982.279300</td>\n",
       "      <td>0.000000</td>\n",
       "      <td>1.467355e+06</td>\n",
       "      <td>3A</td>\n",
       "    </tr>\n",
       "    <tr>\n",
       "      <th>4</th>\n",
       "      <td>Armenia</td>\n",
       "      <td>1992</td>\n",
       "      <td>1</td>\n",
       "      <td>EFConsPerCap</td>\n",
       "      <td>0.387510</td>\n",
       "      <td>0.189462</td>\n",
       "      <td>1.26E-06</td>\n",
       "      <td>0.004165</td>\n",
       "      <td>0.033398</td>\n",
       "      <td>1.114093</td>\n",
       "      <td>1.728629e+00</td>\n",
       "      <td>3A</td>\n",
       "    </tr>\n",
       "  </tbody>\n",
       "</table>\n",
       "</div>"
      ],
      "text/plain": [
       "   country  year  country_code        record      crop_land   grazing_land  \\\n",
       "0  Armenia  1992             1    AreaPerCap       0.140292       0.199546   \n",
       "1  Armenia  1992             1     AreaTotHA  483000.000000  687000.000000   \n",
       "2  Armenia  1992             1  BiocapPerCap       0.159804       0.135261   \n",
       "3  Armenia  1992             1  BiocapTotGHA  550176.242700  465677.972200   \n",
       "4  Armenia  1992             1  EFConsPerCap       0.387510       0.189462   \n",
       "\n",
       "   forest_land  fishing_ground  built_up_land    carbon         total QScore  \n",
       "0  0.097188051        0.036888       0.029320  0.000000  5.032351e-01     3A  \n",
       "1       334600   127000.000000  100943.000800  0.000000  1.732543e+06     3A  \n",
       "2  0.084003213        0.013742       0.033398  0.000000  4.262086e-01     3A  \n",
       "3  289207.1078    47311.551720  114982.279300  0.000000  1.467355e+06     3A  \n",
       "4     1.26E-06        0.004165       0.033398  1.114093  1.728629e+00     3A  "
      ]
     },
     "execution_count": 2,
     "metadata": {},
     "output_type": "execute_result"
    }
   ],
   "source": [
    "Url = 'https://query.data.world/s/wh6j7rxy2hvrn4ml75ci62apk5hgae.csv'\n",
    "df=pd.read_csv(Url)\n",
    "df.head()"
   ]
  },
  {
   "cell_type": "code",
   "execution_count": 3,
   "metadata": {},
   "outputs": [
    {
     "data": {
      "text/plain": [
       "3A    51481\n",
       "2A    10576\n",
       "2B    10096\n",
       "1B       16\n",
       "1A       16\n",
       "Name: QScore, dtype: int64"
      ]
     },
     "execution_count": 3,
     "metadata": {},
     "output_type": "execute_result"
    }
   ],
   "source": [
    "#To count and know the distribution of the target variable\n",
    "#target variable is QScore\n",
    "\n",
    "df['QScore'].value_counts()"
   ]
  },
  {
   "cell_type": "code",
   "execution_count": 4,
   "metadata": {},
   "outputs": [
    {
     "data": {
      "text/plain": [
       "'1.1.0'"
      ]
     },
     "execution_count": 4,
     "metadata": {},
     "output_type": "execute_result"
    }
   ],
   "source": [
    "#to confirm my pandas version\n",
    "#not relevant to this work kindly ignore \n",
    "\n",
    "pd.__version__"
   ]
  },
  {
   "cell_type": "code",
   "execution_count": 5,
   "metadata": {},
   "outputs": [
    {
     "data": {
      "text/plain": [
       "country               0\n",
       "year                  0\n",
       "country_code          0\n",
       "record                0\n",
       "crop_land         20472\n",
       "grazing_land      20472\n",
       "forest_land       20472\n",
       "fishing_ground    20473\n",
       "built_up_land     20473\n",
       "carbon            20473\n",
       "total                 9\n",
       "QScore                1\n",
       "dtype: int64"
      ]
     },
     "execution_count": 5,
     "metadata": {},
     "output_type": "execute_result"
    }
   ],
   "source": [
    "#to proceed with cleaning we will first identify the rows with missing values \n",
    "\n",
    "df.isna().sum()"
   ]
  },
  {
   "cell_type": "code",
   "execution_count": 6,
   "metadata": {},
   "outputs": [],
   "source": [
    "#to simplify our work,\n",
    "#we will drop the rows with missing values\n",
    "\n",
    "df = df.dropna()"
   ]
  },
  {
   "cell_type": "code",
   "execution_count": 7,
   "metadata": {},
   "outputs": [
    {
     "data": {
      "text/plain": [
       "country           0\n",
       "year              0\n",
       "country_code      0\n",
       "record            0\n",
       "crop_land         0\n",
       "grazing_land      0\n",
       "forest_land       0\n",
       "fishing_ground    0\n",
       "built_up_land     0\n",
       "carbon            0\n",
       "total             0\n",
       "QScore            0\n",
       "dtype: int64"
      ]
     },
     "execution_count": 7,
     "metadata": {},
     "output_type": "execute_result"
    }
   ],
   "source": [
    "#to confirm the missing rows have been dropped \n",
    "\n",
    "df.isna().sum()"
   ]
  },
  {
   "cell_type": "code",
   "execution_count": 8,
   "metadata": {},
   "outputs": [
    {
     "data": {
      "text/plain": [
       "3A    51473\n",
       "2A      224\n",
       "1A       16\n",
       "Name: QScore, dtype: int64"
      ]
     },
     "execution_count": 8,
     "metadata": {},
     "output_type": "execute_result"
    }
   ],
   "source": [
    "#considering the effect of the drop\n",
    "#we eill check the count on our target variable \n",
    "\n",
    "df['QScore'].value_counts()"
   ]
  },
  {
   "cell_type": "code",
   "execution_count": 9,
   "metadata": {},
   "outputs": [],
   "source": [
    "#our result indicate we have three classes left from five\n",
    "#the count also reveled the imbalance in the classes\n",
    "#making use of binary classification, we will cmbine class 2A and 1A\n",
    "\n",
    "df['QScore']= df['QScore'].replace(['1A'], '2A')\n"
   ]
  },
  {
   "cell_type": "code",
   "execution_count": 10,
   "metadata": {},
   "outputs": [
    {
     "data": {
      "text/plain": [
       "3A    51473\n",
       "2A      240\n",
       "Name: QScore, dtype: int64"
      ]
     },
     "execution_count": 10,
     "metadata": {},
     "output_type": "execute_result"
    }
   ],
   "source": [
    "df['QScore'].value_counts()"
   ]
  },
  {
   "cell_type": "code",
   "execution_count": 11,
   "metadata": {},
   "outputs": [],
   "source": [
    "#storing class 2A in a variable \n",
    "\n",
    "df_2A = df[df['QScore'] == '2A']\n"
   ]
  },
  {
   "cell_type": "code",
   "execution_count": 12,
   "metadata": {},
   "outputs": [],
   "source": [
    "#i think considering the size of class 3A, we will be making random selection\n",
    "#randomly selecting 350 rows for the 3A variable\n",
    "#A random_state parameter is added for reproducibility\n",
    "\n",
    "df_3A = df[df['QScore'] == '3A'].sample(350, random_state=0)\n"
   ]
  },
  {
   "cell_type": "code",
   "execution_count": 13,
   "metadata": {},
   "outputs": [],
   "source": [
    "#joining the two data frame together\n",
    "#making use of the append function\n",
    "\n",
    "data_df = df_2A.append(df_3A)\n"
   ]
  },
  {
   "cell_type": "code",
   "execution_count": 14,
   "metadata": {},
   "outputs": [
    {
     "data": {
      "text/html": [
       "<div>\n",
       "<style scoped>\n",
       "    .dataframe tbody tr th:only-of-type {\n",
       "        vertical-align: middle;\n",
       "    }\n",
       "\n",
       "    .dataframe tbody tr th {\n",
       "        vertical-align: top;\n",
       "    }\n",
       "\n",
       "    .dataframe thead th {\n",
       "        text-align: right;\n",
       "    }\n",
       "</style>\n",
       "<table border=\"1\" class=\"dataframe\">\n",
       "  <thead>\n",
       "    <tr style=\"text-align: right;\">\n",
       "      <th></th>\n",
       "      <th>country</th>\n",
       "      <th>year</th>\n",
       "      <th>country_code</th>\n",
       "      <th>record</th>\n",
       "      <th>crop_land</th>\n",
       "      <th>grazing_land</th>\n",
       "      <th>forest_land</th>\n",
       "      <th>fishing_ground</th>\n",
       "      <th>built_up_land</th>\n",
       "      <th>carbon</th>\n",
       "      <th>total</th>\n",
       "      <th>QScore</th>\n",
       "    </tr>\n",
       "  </thead>\n",
       "  <tbody>\n",
       "    <tr>\n",
       "      <th>1536</th>\n",
       "      <td>Algeria</td>\n",
       "      <td>2016</td>\n",
       "      <td>4</td>\n",
       "      <td>AreaPerCap</td>\n",
       "      <td>2.072989e-01</td>\n",
       "      <td>8.112722e-01</td>\n",
       "      <td>0.048357265</td>\n",
       "      <td>0.022585</td>\n",
       "      <td>2.998367e-02</td>\n",
       "      <td>0.000000</td>\n",
       "      <td>1.119497e+00</td>\n",
       "      <td>2A</td>\n",
       "    </tr>\n",
       "    <tr>\n",
       "      <th>1537</th>\n",
       "      <td>Algeria</td>\n",
       "      <td>2016</td>\n",
       "      <td>4</td>\n",
       "      <td>AreaTotHA</td>\n",
       "      <td>8.417600e+06</td>\n",
       "      <td>3.294260e+07</td>\n",
       "      <td>1963600</td>\n",
       "      <td>917100.000000</td>\n",
       "      <td>1.217520e+06</td>\n",
       "      <td>0.000000</td>\n",
       "      <td>4.545842e+07</td>\n",
       "      <td>2A</td>\n",
       "    </tr>\n",
       "    <tr>\n",
       "      <th>1538</th>\n",
       "      <td>Algeria</td>\n",
       "      <td>2016</td>\n",
       "      <td>4</td>\n",
       "      <td>BiocapPerCap</td>\n",
       "      <td>2.021916e-01</td>\n",
       "      <td>2.636077e-01</td>\n",
       "      <td>0.027166736</td>\n",
       "      <td>0.007948</td>\n",
       "      <td>2.924496e-02</td>\n",
       "      <td>0.000000</td>\n",
       "      <td>5.301590e-01</td>\n",
       "      <td>2A</td>\n",
       "    </tr>\n",
       "    <tr>\n",
       "      <th>1539</th>\n",
       "      <td>Algeria</td>\n",
       "      <td>2016</td>\n",
       "      <td>4</td>\n",
       "      <td>BiocapTotGHA</td>\n",
       "      <td>8.210214e+06</td>\n",
       "      <td>1.070408e+07</td>\n",
       "      <td>1103135.245</td>\n",
       "      <td>322736.916200</td>\n",
       "      <td>1.187524e+06</td>\n",
       "      <td>0.000000</td>\n",
       "      <td>2.152769e+07</td>\n",
       "      <td>2A</td>\n",
       "    </tr>\n",
       "    <tr>\n",
       "      <th>1540</th>\n",
       "      <td>Algeria</td>\n",
       "      <td>2016</td>\n",
       "      <td>4</td>\n",
       "      <td>EFConsPerCap</td>\n",
       "      <td>6.280528e-01</td>\n",
       "      <td>1.810332e-01</td>\n",
       "      <td>0.162800822</td>\n",
       "      <td>0.014729</td>\n",
       "      <td>2.924496e-02</td>\n",
       "      <td>1.391455</td>\n",
       "      <td>2.407316e+00</td>\n",
       "      <td>2A</td>\n",
       "    </tr>\n",
       "  </tbody>\n",
       "</table>\n",
       "</div>"
      ],
      "text/plain": [
       "      country  year  country_code        record     crop_land  grazing_land  \\\n",
       "1536  Algeria  2016             4    AreaPerCap  2.072989e-01  8.112722e-01   \n",
       "1537  Algeria  2016             4     AreaTotHA  8.417600e+06  3.294260e+07   \n",
       "1538  Algeria  2016             4  BiocapPerCap  2.021916e-01  2.636077e-01   \n",
       "1539  Algeria  2016             4  BiocapTotGHA  8.210214e+06  1.070408e+07   \n",
       "1540  Algeria  2016             4  EFConsPerCap  6.280528e-01  1.810332e-01   \n",
       "\n",
       "      forest_land  fishing_ground  built_up_land    carbon         total  \\\n",
       "1536  0.048357265        0.022585   2.998367e-02  0.000000  1.119497e+00   \n",
       "1537      1963600   917100.000000   1.217520e+06  0.000000  4.545842e+07   \n",
       "1538  0.027166736        0.007948   2.924496e-02  0.000000  5.301590e-01   \n",
       "1539  1103135.245   322736.916200   1.187524e+06  0.000000  2.152769e+07   \n",
       "1540  0.162800822        0.014729   2.924496e-02  1.391455  2.407316e+00   \n",
       "\n",
       "     QScore  \n",
       "1536     2A  \n",
       "1537     2A  \n",
       "1538     2A  \n",
       "1539     2A  \n",
       "1540     2A  "
      ]
     },
     "execution_count": 14,
     "metadata": {},
     "output_type": "execute_result"
    }
   ],
   "source": [
    "#viualizing our new dataframe\n",
    "\n",
    "data_df.head()"
   ]
  },
  {
   "cell_type": "code",
   "execution_count": 15,
   "metadata": {},
   "outputs": [
    {
     "data": {
      "text/html": [
       "<div>\n",
       "<style scoped>\n",
       "    .dataframe tbody tr th:only-of-type {\n",
       "        vertical-align: middle;\n",
       "    }\n",
       "\n",
       "    .dataframe tbody tr th {\n",
       "        vertical-align: top;\n",
       "    }\n",
       "\n",
       "    .dataframe thead th {\n",
       "        text-align: right;\n",
       "    }\n",
       "</style>\n",
       "<table border=\"1\" class=\"dataframe\">\n",
       "  <thead>\n",
       "    <tr style=\"text-align: right;\">\n",
       "      <th></th>\n",
       "      <th>country</th>\n",
       "      <th>year</th>\n",
       "      <th>country_code</th>\n",
       "      <th>record</th>\n",
       "      <th>crop_land</th>\n",
       "      <th>grazing_land</th>\n",
       "      <th>forest_land</th>\n",
       "      <th>fishing_ground</th>\n",
       "      <th>built_up_land</th>\n",
       "      <th>carbon</th>\n",
       "      <th>total</th>\n",
       "      <th>QScore</th>\n",
       "    </tr>\n",
       "  </thead>\n",
       "  <tbody>\n",
       "    <tr>\n",
       "      <th>16241</th>\n",
       "      <td>Denmark</td>\n",
       "      <td>1999</td>\n",
       "      <td>54</td>\n",
       "      <td>AreaTotHA</td>\n",
       "      <td>3.257548e+06</td>\n",
       "      <td>1.331344e+05</td>\n",
       "      <td>469158.7</td>\n",
       "      <td>9.962839e+06</td>\n",
       "      <td>3.140515e+05</td>\n",
       "      <td>0.000000e+00</td>\n",
       "      <td>1.413673e+07</td>\n",
       "      <td>3A</td>\n",
       "    </tr>\n",
       "    <tr>\n",
       "      <th>38504</th>\n",
       "      <td>Malaysia</td>\n",
       "      <td>1972</td>\n",
       "      <td>131</td>\n",
       "      <td>AreaPerCap</td>\n",
       "      <td>3.286831e-01</td>\n",
       "      <td>3.160671e-02</td>\n",
       "      <td>1.878321615</td>\n",
       "      <td>3.430040e+00</td>\n",
       "      <td>2.527423e-02</td>\n",
       "      <td>0.000000e+00</td>\n",
       "      <td>5.693926e+00</td>\n",
       "      <td>3A</td>\n",
       "    </tr>\n",
       "    <tr>\n",
       "      <th>63831</th>\n",
       "      <td>Turkey</td>\n",
       "      <td>2016</td>\n",
       "      <td>223</td>\n",
       "      <td>EFConsTotGHA</td>\n",
       "      <td>6.519846e+07</td>\n",
       "      <td>9.150603e+06</td>\n",
       "      <td>26216874.18</td>\n",
       "      <td>3.101630e+06</td>\n",
       "      <td>2.836436e+06</td>\n",
       "      <td>1.604640e+08</td>\n",
       "      <td>2.669680e+08</td>\n",
       "      <td>3A</td>\n",
       "    </tr>\n",
       "    <tr>\n",
       "      <th>25784</th>\n",
       "      <td>Guinea</td>\n",
       "      <td>1982</td>\n",
       "      <td>90</td>\n",
       "      <td>AreaPerCap</td>\n",
       "      <td>7.404170e-01</td>\n",
       "      <td>2.281158e+00</td>\n",
       "      <td>1.549554248</td>\n",
       "      <td>1.028909e+00</td>\n",
       "      <td>3.689592e-02</td>\n",
       "      <td>0.000000e+00</td>\n",
       "      <td>5.636934e+00</td>\n",
       "      <td>3A</td>\n",
       "    </tr>\n",
       "    <tr>\n",
       "      <th>10836</th>\n",
       "      <td>Central African Republic</td>\n",
       "      <td>1993</td>\n",
       "      <td>37</td>\n",
       "      <td>EFConsPerCap</td>\n",
       "      <td>3.007898e-01</td>\n",
       "      <td>7.340857e-01</td>\n",
       "      <td>0.486456419</td>\n",
       "      <td>7.416127e-03</td>\n",
       "      <td>2.283253e-02</td>\n",
       "      <td>4.200042e-02</td>\n",
       "      <td>1.593581e+00</td>\n",
       "      <td>3A</td>\n",
       "    </tr>\n",
       "  </tbody>\n",
       "</table>\n",
       "</div>"
      ],
      "text/plain": [
       "                        country  year  country_code        record  \\\n",
       "16241                   Denmark  1999            54     AreaTotHA   \n",
       "38504                  Malaysia  1972           131    AreaPerCap   \n",
       "63831                    Turkey  2016           223  EFConsTotGHA   \n",
       "25784                    Guinea  1982            90    AreaPerCap   \n",
       "10836  Central African Republic  1993            37  EFConsPerCap   \n",
       "\n",
       "          crop_land  grazing_land  forest_land  fishing_ground  built_up_land  \\\n",
       "16241  3.257548e+06  1.331344e+05     469158.7    9.962839e+06   3.140515e+05   \n",
       "38504  3.286831e-01  3.160671e-02  1.878321615    3.430040e+00   2.527423e-02   \n",
       "63831  6.519846e+07  9.150603e+06  26216874.18    3.101630e+06   2.836436e+06   \n",
       "25784  7.404170e-01  2.281158e+00  1.549554248    1.028909e+00   3.689592e-02   \n",
       "10836  3.007898e-01  7.340857e-01  0.486456419    7.416127e-03   2.283253e-02   \n",
       "\n",
       "             carbon         total QScore  \n",
       "16241  0.000000e+00  1.413673e+07     3A  \n",
       "38504  0.000000e+00  5.693926e+00     3A  \n",
       "63831  1.604640e+08  2.669680e+08     3A  \n",
       "25784  0.000000e+00  5.636934e+00     3A  \n",
       "10836  4.200042e-02  1.593581e+00     3A  "
      ]
     },
     "execution_count": 15,
     "metadata": {},
     "output_type": "execute_result"
    }
   ],
   "source": [
    "data_df.tail()"
   ]
  },
  {
   "cell_type": "code",
   "execution_count": 16,
   "metadata": {},
   "outputs": [
    {
     "data": {
      "text/plain": [
       "(590, 12)"
      ]
     },
     "execution_count": 16,
     "metadata": {},
     "output_type": "execute_result"
    }
   ],
   "source": [
    "#to confirm the size of our new dataset\n",
    "\n",
    "data_df.shape"
   ]
  },
  {
   "cell_type": "code",
   "execution_count": 17,
   "metadata": {},
   "outputs": [
    {
     "data": {
      "text/plain": [
       "3A    350\n",
       "2A    240\n",
       "Name: QScore, dtype: int64"
      ]
     },
     "execution_count": 17,
     "metadata": {},
     "output_type": "execute_result"
    }
   ],
   "source": [
    "#counting the value of our target varaible (considering the new dataset)  \n",
    "\n",
    "data_df.QScore.value_counts()\n"
   ]
  },
  {
   "cell_type": "code",
   "execution_count": 18,
   "metadata": {},
   "outputs": [],
   "source": [
    "#we need to shuffle the data since some changes has occure on the dataset\n",
    "#shuffling also ensure the data point creates an independent change\n",
    "\n",
    "import sklearn.utils\n",
    "\n",
    "data_df = sklearn.utils.shuffle(data_df, random_state = 0)\n",
    "\n",
    "#it is always important to set it random state "
   ]
  },
  {
   "cell_type": "code",
   "execution_count": 19,
   "metadata": {},
   "outputs": [],
   "source": [
    "#we will also reset the index and drop the current one\n",
    "#for a more orderly state for the new dataset\n",
    "\n",
    "data_df = data_df.reset_index(drop = True)\n"
   ]
  },
  {
   "cell_type": "code",
   "execution_count": 20,
   "metadata": {},
   "outputs": [
    {
     "data": {
      "text/plain": [
       "(590, 12)"
      ]
     },
     "execution_count": 20,
     "metadata": {},
     "output_type": "execute_result"
    }
   ],
   "source": [
    "#confirming the size\n",
    "\n",
    "data_df.shape"
   ]
  },
  {
   "cell_type": "code",
   "execution_count": 21,
   "metadata": {},
   "outputs": [
    {
     "data": {
      "text/html": [
       "<div>\n",
       "<style scoped>\n",
       "    .dataframe tbody tr th:only-of-type {\n",
       "        vertical-align: middle;\n",
       "    }\n",
       "\n",
       "    .dataframe tbody tr th {\n",
       "        vertical-align: top;\n",
       "    }\n",
       "\n",
       "    .dataframe thead th {\n",
       "        text-align: right;\n",
       "    }\n",
       "</style>\n",
       "<table border=\"1\" class=\"dataframe\">\n",
       "  <thead>\n",
       "    <tr style=\"text-align: right;\">\n",
       "      <th></th>\n",
       "      <th>country</th>\n",
       "      <th>year</th>\n",
       "      <th>country_code</th>\n",
       "      <th>record</th>\n",
       "      <th>crop_land</th>\n",
       "      <th>grazing_land</th>\n",
       "      <th>forest_land</th>\n",
       "      <th>fishing_ground</th>\n",
       "      <th>built_up_land</th>\n",
       "      <th>carbon</th>\n",
       "      <th>total</th>\n",
       "      <th>QScore</th>\n",
       "    </tr>\n",
       "  </thead>\n",
       "  <tbody>\n",
       "    <tr>\n",
       "      <th>0</th>\n",
       "      <td>Trinidad and Tobago</td>\n",
       "      <td>2016</td>\n",
       "      <td>220</td>\n",
       "      <td>AreaTotHA</td>\n",
       "      <td>4.700000e+04</td>\n",
       "      <td>7.000000e+03</td>\n",
       "      <td>236100</td>\n",
       "      <td>2.113600e+06</td>\n",
       "      <td>1.291780e+03</td>\n",
       "      <td>0.000000e+00</td>\n",
       "      <td>2.404992e+06</td>\n",
       "      <td>2A</td>\n",
       "    </tr>\n",
       "    <tr>\n",
       "      <th>1</th>\n",
       "      <td>Belize</td>\n",
       "      <td>2016</td>\n",
       "      <td>23</td>\n",
       "      <td>EFProdPerCap</td>\n",
       "      <td>5.071023e-01</td>\n",
       "      <td>2.055006e-01</td>\n",
       "      <td>0.20984546</td>\n",
       "      <td>2.222697e+00</td>\n",
       "      <td>5.540510e-04</td>\n",
       "      <td>4.805086e-01</td>\n",
       "      <td>3.626208e+00</td>\n",
       "      <td>2A</td>\n",
       "    </tr>\n",
       "    <tr>\n",
       "      <th>2</th>\n",
       "      <td>Guatemala</td>\n",
       "      <td>2016</td>\n",
       "      <td>89</td>\n",
       "      <td>EFConsTotGHA</td>\n",
       "      <td>7.289958e+06</td>\n",
       "      <td>2.665859e+06</td>\n",
       "      <td>9354954.762</td>\n",
       "      <td>5.894037e+05</td>\n",
       "      <td>1.496289e+06</td>\n",
       "      <td>9.760726e+06</td>\n",
       "      <td>3.115719e+07</td>\n",
       "      <td>2A</td>\n",
       "    </tr>\n",
       "    <tr>\n",
       "      <th>3</th>\n",
       "      <td>Somalia</td>\n",
       "      <td>1989</td>\n",
       "      <td>201</td>\n",
       "      <td>BiocapPerCap</td>\n",
       "      <td>1.477893e-01</td>\n",
       "      <td>7.990278e-01</td>\n",
       "      <td>0.370905175</td>\n",
       "      <td>4.726897e-01</td>\n",
       "      <td>5.685511e-02</td>\n",
       "      <td>0.000000e+00</td>\n",
       "      <td>1.847267e+00</td>\n",
       "      <td>3A</td>\n",
       "    </tr>\n",
       "    <tr>\n",
       "      <th>4</th>\n",
       "      <td>Kyrgyzstan</td>\n",
       "      <td>2016</td>\n",
       "      <td>113</td>\n",
       "      <td>EFConsPerCap</td>\n",
       "      <td>4.271284e-01</td>\n",
       "      <td>1.977978e-01</td>\n",
       "      <td>0.059306959</td>\n",
       "      <td>5.479879e-03</td>\n",
       "      <td>7.480447e-02</td>\n",
       "      <td>8.907022e-01</td>\n",
       "      <td>1.655220e+00</td>\n",
       "      <td>2A</td>\n",
       "    </tr>\n",
       "  </tbody>\n",
       "</table>\n",
       "</div>"
      ],
      "text/plain": [
       "               country  year  country_code        record     crop_land  \\\n",
       "0  Trinidad and Tobago  2016           220     AreaTotHA  4.700000e+04   \n",
       "1               Belize  2016            23  EFProdPerCap  5.071023e-01   \n",
       "2            Guatemala  2016            89  EFConsTotGHA  7.289958e+06   \n",
       "3              Somalia  1989           201  BiocapPerCap  1.477893e-01   \n",
       "4           Kyrgyzstan  2016           113  EFConsPerCap  4.271284e-01   \n",
       "\n",
       "   grazing_land  forest_land  fishing_ground  built_up_land        carbon  \\\n",
       "0  7.000000e+03       236100    2.113600e+06   1.291780e+03  0.000000e+00   \n",
       "1  2.055006e-01   0.20984546    2.222697e+00   5.540510e-04  4.805086e-01   \n",
       "2  2.665859e+06  9354954.762    5.894037e+05   1.496289e+06  9.760726e+06   \n",
       "3  7.990278e-01  0.370905175    4.726897e-01   5.685511e-02  0.000000e+00   \n",
       "4  1.977978e-01  0.059306959    5.479879e-03   7.480447e-02  8.907022e-01   \n",
       "\n",
       "          total QScore  \n",
       "0  2.404992e+06     2A  \n",
       "1  3.626208e+00     2A  \n",
       "2  3.115719e+07     2A  \n",
       "3  1.847267e+00     3A  \n",
       "4  1.655220e+00     2A  "
      ]
     },
     "execution_count": 21,
     "metadata": {},
     "output_type": "execute_result"
    }
   ],
   "source": [
    "#visualizing the effected change \n",
    "\n",
    "data_df.head()"
   ]
  },
  {
   "cell_type": "code",
   "execution_count": 22,
   "metadata": {},
   "outputs": [],
   "source": [
    "#for the purpose of this course we will be dropping some coloumns that wont be needed\n",
    "#the columns include; country code, country and year \n",
    "\n",
    "data_df = data_df.drop(['country_code', 'country', 'year'], axis = 1)"
   ]
  },
  {
   "cell_type": "code",
   "execution_count": 23,
   "metadata": {},
   "outputs": [
    {
     "data": {
      "text/html": [
       "<div>\n",
       "<style scoped>\n",
       "    .dataframe tbody tr th:only-of-type {\n",
       "        vertical-align: middle;\n",
       "    }\n",
       "\n",
       "    .dataframe tbody tr th {\n",
       "        vertical-align: top;\n",
       "    }\n",
       "\n",
       "    .dataframe thead th {\n",
       "        text-align: right;\n",
       "    }\n",
       "</style>\n",
       "<table border=\"1\" class=\"dataframe\">\n",
       "  <thead>\n",
       "    <tr style=\"text-align: right;\">\n",
       "      <th></th>\n",
       "      <th>record</th>\n",
       "      <th>crop_land</th>\n",
       "      <th>grazing_land</th>\n",
       "      <th>forest_land</th>\n",
       "      <th>fishing_ground</th>\n",
       "      <th>built_up_land</th>\n",
       "      <th>carbon</th>\n",
       "      <th>total</th>\n",
       "      <th>QScore</th>\n",
       "    </tr>\n",
       "  </thead>\n",
       "  <tbody>\n",
       "    <tr>\n",
       "      <th>0</th>\n",
       "      <td>AreaTotHA</td>\n",
       "      <td>4.700000e+04</td>\n",
       "      <td>7.000000e+03</td>\n",
       "      <td>236100</td>\n",
       "      <td>2.113600e+06</td>\n",
       "      <td>1.291780e+03</td>\n",
       "      <td>0.000000e+00</td>\n",
       "      <td>2.404992e+06</td>\n",
       "      <td>2A</td>\n",
       "    </tr>\n",
       "    <tr>\n",
       "      <th>1</th>\n",
       "      <td>EFProdPerCap</td>\n",
       "      <td>5.071023e-01</td>\n",
       "      <td>2.055006e-01</td>\n",
       "      <td>0.20984546</td>\n",
       "      <td>2.222697e+00</td>\n",
       "      <td>5.540510e-04</td>\n",
       "      <td>4.805086e-01</td>\n",
       "      <td>3.626208e+00</td>\n",
       "      <td>2A</td>\n",
       "    </tr>\n",
       "    <tr>\n",
       "      <th>2</th>\n",
       "      <td>EFConsTotGHA</td>\n",
       "      <td>7.289958e+06</td>\n",
       "      <td>2.665859e+06</td>\n",
       "      <td>9354954.762</td>\n",
       "      <td>5.894037e+05</td>\n",
       "      <td>1.496289e+06</td>\n",
       "      <td>9.760726e+06</td>\n",
       "      <td>3.115719e+07</td>\n",
       "      <td>2A</td>\n",
       "    </tr>\n",
       "    <tr>\n",
       "      <th>3</th>\n",
       "      <td>BiocapPerCap</td>\n",
       "      <td>1.477893e-01</td>\n",
       "      <td>7.990278e-01</td>\n",
       "      <td>0.370905175</td>\n",
       "      <td>4.726897e-01</td>\n",
       "      <td>5.685511e-02</td>\n",
       "      <td>0.000000e+00</td>\n",
       "      <td>1.847267e+00</td>\n",
       "      <td>3A</td>\n",
       "    </tr>\n",
       "    <tr>\n",
       "      <th>4</th>\n",
       "      <td>EFConsPerCap</td>\n",
       "      <td>4.271284e-01</td>\n",
       "      <td>1.977978e-01</td>\n",
       "      <td>0.059306959</td>\n",
       "      <td>5.479879e-03</td>\n",
       "      <td>7.480447e-02</td>\n",
       "      <td>8.907022e-01</td>\n",
       "      <td>1.655220e+00</td>\n",
       "      <td>2A</td>\n",
       "    </tr>\n",
       "  </tbody>\n",
       "</table>\n",
       "</div>"
      ],
      "text/plain": [
       "         record     crop_land  grazing_land  forest_land  fishing_ground  \\\n",
       "0     AreaTotHA  4.700000e+04  7.000000e+03       236100    2.113600e+06   \n",
       "1  EFProdPerCap  5.071023e-01  2.055006e-01   0.20984546    2.222697e+00   \n",
       "2  EFConsTotGHA  7.289958e+06  2.665859e+06  9354954.762    5.894037e+05   \n",
       "3  BiocapPerCap  1.477893e-01  7.990278e-01  0.370905175    4.726897e-01   \n",
       "4  EFConsPerCap  4.271284e-01  1.977978e-01  0.059306959    5.479879e-03   \n",
       "\n",
       "   built_up_land        carbon         total QScore  \n",
       "0   1.291780e+03  0.000000e+00  2.404992e+06     2A  \n",
       "1   5.540510e-04  4.805086e-01  3.626208e+00     2A  \n",
       "2   1.496289e+06  9.760726e+06  3.115719e+07     2A  \n",
       "3   5.685511e-02  0.000000e+00  1.847267e+00     3A  \n",
       "4   7.480447e-02  8.907022e-01  1.655220e+00     2A  "
      ]
     },
     "execution_count": 23,
     "metadata": {},
     "output_type": "execute_result"
    }
   ],
   "source": [
    "data_df.head()"
   ]
  },
  {
   "cell_type": "code",
   "execution_count": 24,
   "metadata": {},
   "outputs": [],
   "source": [
    "#assigning our features into different variables \n",
    "#we will be dropping our target variable when assigning the input ie. X \n",
    "#because we dont want to put the target feature among the input feature \n",
    "\n",
    "X = data_df.drop(columns = 'QScore', axis =1 )\n",
    "Y = data_df['QScore']\n",
    "\n",
    "#when x is the input \n",
    "#and y is the output or target"
   ]
  },
  {
   "cell_type": "code",
   "execution_count": 25,
   "metadata": {},
   "outputs": [
    {
     "data": {
      "text/plain": [
       "3A    248\n",
       "2A    165\n",
       "Name: QScore, dtype: int64"
      ]
     },
     "execution_count": 25,
     "metadata": {},
     "output_type": "execute_result"
    }
   ],
   "source": [
    "#we then split the data into traning and testing sets \n",
    "\n",
    "from sklearn.model_selection import train_test_split\n",
    "\n",
    "X_train, X_test, Y_train, Y_test = train_test_split(X, Y, test_size = 0.3, random_state =0)\n",
    "Y_train.value_counts()"
   ]
  },
  {
   "cell_type": "code",
   "execution_count": 26,
   "metadata": {},
   "outputs": [
    {
     "name": "stdout",
     "output_type": "stream",
     "text": [
      "<class 'pandas.core.frame.DataFrame'>\n",
      "Int64Index: 413 entries, 285 to 559\n",
      "Data columns (total 8 columns):\n",
      " #   Column          Non-Null Count  Dtype  \n",
      "---  ------          --------------  -----  \n",
      " 0   record          413 non-null    object \n",
      " 1   crop_land       413 non-null    float64\n",
      " 2   grazing_land    413 non-null    float64\n",
      " 3   forest_land     413 non-null    object \n",
      " 4   fishing_ground  413 non-null    float64\n",
      " 5   built_up_land   413 non-null    float64\n",
      " 6   carbon          413 non-null    float64\n",
      " 7   total           413 non-null    float64\n",
      "dtypes: float64(6), object(2)\n",
      "memory usage: 29.0+ KB\n"
     ]
    }
   ],
   "source": [
    "#from the dataset some of the column comes in object as against float,\n",
    "#to convert to numerical we make use of encoder label\n",
    "#we will get the visual of our input\n",
    "\n",
    "X_train.info()"
   ]
  },
  {
   "cell_type": "code",
   "execution_count": 27,
   "metadata": {},
   "outputs": [
    {
     "name": "stderr",
     "output_type": "stream",
     "text": [
      "C:\\Users\\solas\\anaconda3\\lib\\site-packages\\pandas\\core\\generic.py:5159: SettingWithCopyWarning: \n",
      "A value is trying to be set on a copy of a slice from a DataFrame.\n",
      "Try using .loc[row_indexer,col_indexer] = value instead\n",
      "\n",
      "See the caveats in the documentation: https://pandas.pydata.org/pandas-docs/stable/user_guide/indexing.html#returning-a-view-versus-a-copy\n",
      "  self[name] = value\n"
     ]
    }
   ],
   "source": [
    "#to encode the variable using Label encoder\n",
    "\n",
    "from sklearn.preprocessing import LabelEncoder\n",
    "encoder = LabelEncoder()\n",
    "X_train.record = encoder.fit_transform(X_train.record)\n",
    "X_test.record = encoder.transform(X_test.record)"
   ]
  },
  {
   "cell_type": "code",
   "execution_count": 28,
   "metadata": {},
   "outputs": [
    {
     "data": {
      "text/html": [
       "<div>\n",
       "<style scoped>\n",
       "    .dataframe tbody tr th:only-of-type {\n",
       "        vertical-align: middle;\n",
       "    }\n",
       "\n",
       "    .dataframe tbody tr th {\n",
       "        vertical-align: top;\n",
       "    }\n",
       "\n",
       "    .dataframe thead th {\n",
       "        text-align: right;\n",
       "    }\n",
       "</style>\n",
       "<table border=\"1\" class=\"dataframe\">\n",
       "  <thead>\n",
       "    <tr style=\"text-align: right;\">\n",
       "      <th></th>\n",
       "      <th>record</th>\n",
       "      <th>crop_land</th>\n",
       "      <th>grazing_land</th>\n",
       "      <th>forest_land</th>\n",
       "      <th>fishing_ground</th>\n",
       "      <th>built_up_land</th>\n",
       "      <th>carbon</th>\n",
       "      <th>total</th>\n",
       "    </tr>\n",
       "  </thead>\n",
       "  <tbody>\n",
       "    <tr>\n",
       "      <th>285</th>\n",
       "      <td>5</td>\n",
       "      <td>9.979776e+06</td>\n",
       "      <td>443742.397300</td>\n",
       "      <td>8.22956e+06</td>\n",
       "      <td>9.431555e+05</td>\n",
       "      <td>1.203837e+06</td>\n",
       "      <td>3.713204e+06</td>\n",
       "      <td>2.451327e+07</td>\n",
       "    </tr>\n",
       "    <tr>\n",
       "      <th>113</th>\n",
       "      <td>6</td>\n",
       "      <td>1.577776e-01</td>\n",
       "      <td>0.020945</td>\n",
       "      <td>0.767404124</td>\n",
       "      <td>1.954311e-02</td>\n",
       "      <td>3.713408e-02</td>\n",
       "      <td>6.699166e-02</td>\n",
       "      <td>1.069796e+00</td>\n",
       "    </tr>\n",
       "    <tr>\n",
       "      <th>18</th>\n",
       "      <td>4</td>\n",
       "      <td>4.461706e-01</td>\n",
       "      <td>0.237536</td>\n",
       "      <td>0.423942833</td>\n",
       "      <td>1.122089e-01</td>\n",
       "      <td>4.755381e-02</td>\n",
       "      <td>8.308703e-01</td>\n",
       "      <td>2.098283e+00</td>\n",
       "    </tr>\n",
       "    <tr>\n",
       "      <th>76</th>\n",
       "      <td>7</td>\n",
       "      <td>3.390146e+07</td>\n",
       "      <td>476731.570100</td>\n",
       "      <td>7628142.139</td>\n",
       "      <td>1.926862e+07</td>\n",
       "      <td>5.888916e+06</td>\n",
       "      <td>3.415330e+07</td>\n",
       "      <td>1.013172e+08</td>\n",
       "    </tr>\n",
       "    <tr>\n",
       "      <th>206</th>\n",
       "      <td>4</td>\n",
       "      <td>3.407583e-01</td>\n",
       "      <td>0.008844</td>\n",
       "      <td>0.150235593</td>\n",
       "      <td>1.281046e-02</td>\n",
       "      <td>2.797109e-02</td>\n",
       "      <td>1.704237e-01</td>\n",
       "      <td>7.110435e-01</td>\n",
       "    </tr>\n",
       "  </tbody>\n",
       "</table>\n",
       "</div>"
      ],
      "text/plain": [
       "     record     crop_land   grazing_land  forest_land  fishing_ground  \\\n",
       "285       5  9.979776e+06  443742.397300  8.22956e+06    9.431555e+05   \n",
       "113       6  1.577776e-01       0.020945  0.767404124    1.954311e-02   \n",
       "18        4  4.461706e-01       0.237536  0.423942833    1.122089e-01   \n",
       "76        7  3.390146e+07  476731.570100  7628142.139    1.926862e+07   \n",
       "206       4  3.407583e-01       0.008844  0.150235593    1.281046e-02   \n",
       "\n",
       "     built_up_land        carbon         total  \n",
       "285   1.203837e+06  3.713204e+06  2.451327e+07  \n",
       "113   3.713408e-02  6.699166e-02  1.069796e+00  \n",
       "18    4.755381e-02  8.308703e-01  2.098283e+00  \n",
       "76    5.888916e+06  3.415330e+07  1.013172e+08  \n",
       "206   2.797109e-02  1.704237e-01  7.110435e-01  "
      ]
     },
     "execution_count": 28,
     "metadata": {},
     "output_type": "execute_result"
    }
   ],
   "source": [
    "#to confirm the changes have been effected \n",
    "\n",
    "X_train.head()"
   ]
  },
  {
   "cell_type": "code",
   "execution_count": 29,
   "metadata": {},
   "outputs": [],
   "source": [
    "#noting the imbalance in the class distribution of the output ie. Qscore from line 25\n",
    "#we will use SMOTE but only on the training data\n",
    "\n",
    "import imblearn\n",
    "from imblearn.over_sampling import SMOTE\n",
    "smote = SMOTE(random_state = 1)\n",
    "X_train_balanced, Y_balanced = smote.fit_sample(X_train, Y_train)"
   ]
  },
  {
   "cell_type": "code",
   "execution_count": 30,
   "metadata": {},
   "outputs": [
    {
     "data": {
      "text/plain": [
       "((413, 8), (496, 8))"
      ]
     },
     "execution_count": 30,
     "metadata": {},
     "output_type": "execute_result"
    }
   ],
   "source": [
    "#checking the new shape of the input ie. X variable \n",
    "\n",
    "X_train.shape, X_train_balanced.shape"
   ]
  },
  {
   "cell_type": "code",
   "execution_count": 31,
   "metadata": {},
   "outputs": [
    {
     "data": {
      "text/plain": [
       "((413,), (496,))"
      ]
     },
     "execution_count": 31,
     "metadata": {},
     "output_type": "execute_result"
    }
   ],
   "source": [
    "#checking the new shape of the output/target variable ie. Y variable \n",
    "\n",
    "Y_train.shape, Y_balanced.shape"
   ]
  },
  {
   "cell_type": "code",
   "execution_count": 32,
   "metadata": {},
   "outputs": [
    {
     "data": {
      "text/plain": [
       "3A    248\n",
       "2A    248\n",
       "dtype: int64"
      ]
     },
     "execution_count": 32,
     "metadata": {},
     "output_type": "execute_result"
    }
   ],
   "source": [
    "#to confirm if we now have a balanced variable/class\n",
    "\n",
    "pd.Series(Y_balanced.tolist()).value_counts()"
   ]
  },
  {
   "cell_type": "code",
   "execution_count": 33,
   "metadata": {},
   "outputs": [],
   "source": [
    "from sklearn.preprocessing import MinMaxScaler\n",
    "scaler = MinMaxScaler()\n",
    "normalised_train_df = scaler.fit_transform(X_train_balanced.drop(columns =['record']))\n",
    "normalised_train_df = pd.DataFrame(normalised_train_df, columns = X_train_balanced.drop(columns = ['record']).columns)\n",
    "normalised_train_df['record'] = X_train_balanced['record']"
   ]
  },
  {
   "cell_type": "code",
   "execution_count": 34,
   "metadata": {},
   "outputs": [],
   "source": [
    "X_test = X_test.reset_index(drop=True)\n",
    "normalised_test_df = scaler.transform(X_test.drop(columns =['record']))\n",
    "normalised_test_df = pd.DataFrame(normalised_test_df, columns = X_test.drop(columns = ['record']).columns)\n",
    "normalised_test_df['record'] = X_test['record']"
   ]
  },
  {
   "cell_type": "code",
   "execution_count": 35,
   "metadata": {},
   "outputs": [
    {
     "data": {
      "text/html": [
       "<div>\n",
       "<style scoped>\n",
       "    .dataframe tbody tr th:only-of-type {\n",
       "        vertical-align: middle;\n",
       "    }\n",
       "\n",
       "    .dataframe tbody tr th {\n",
       "        vertical-align: top;\n",
       "    }\n",
       "\n",
       "    .dataframe thead th {\n",
       "        text-align: right;\n",
       "    }\n",
       "</style>\n",
       "<table border=\"1\" class=\"dataframe\">\n",
       "  <thead>\n",
       "    <tr style=\"text-align: right;\">\n",
       "      <th></th>\n",
       "      <th>crop_land</th>\n",
       "      <th>grazing_land</th>\n",
       "      <th>forest_land</th>\n",
       "      <th>fishing_ground</th>\n",
       "      <th>built_up_land</th>\n",
       "      <th>carbon</th>\n",
       "      <th>total</th>\n",
       "      <th>record</th>\n",
       "    </tr>\n",
       "  </thead>\n",
       "  <tbody>\n",
       "    <tr>\n",
       "      <th>0</th>\n",
       "      <td>1.787946e-02</td>\n",
       "      <td>1.143006e-03</td>\n",
       "      <td>1.017073e-02</td>\n",
       "      <td>1.956717e-03</td>\n",
       "      <td>9.671065e-03</td>\n",
       "      <td>2.361315e-03</td>\n",
       "      <td>1.128275e-02</td>\n",
       "      <td>5</td>\n",
       "    </tr>\n",
       "    <tr>\n",
       "      <th>1</th>\n",
       "      <td>2.529569e-10</td>\n",
       "      <td>5.395099e-11</td>\n",
       "      <td>9.484182e-10</td>\n",
       "      <td>4.054509e-11</td>\n",
       "      <td>2.983178e-10</td>\n",
       "      <td>4.260159e-11</td>\n",
       "      <td>3.946518e-10</td>\n",
       "      <td>6</td>\n",
       "    </tr>\n",
       "    <tr>\n",
       "      <th>2</th>\n",
       "      <td>7.696329e-10</td>\n",
       "      <td>6.118535e-10</td>\n",
       "      <td>5.239418e-10</td>\n",
       "      <td>2.327940e-10</td>\n",
       "      <td>3.820250e-10</td>\n",
       "      <td>5.283701e-10</td>\n",
       "      <td>8.680348e-10</td>\n",
       "      <td>4</td>\n",
       "    </tr>\n",
       "    <tr>\n",
       "      <th>3</th>\n",
       "      <td>6.073681e-02</td>\n",
       "      <td>1.227981e-03</td>\n",
       "      <td>9.427456e-03</td>\n",
       "      <td>3.997563e-02</td>\n",
       "      <td>4.730879e-02</td>\n",
       "      <td>2.171889e-02</td>\n",
       "      <td>4.663338e-02</td>\n",
       "      <td>7</td>\n",
       "    </tr>\n",
       "    <tr>\n",
       "      <th>4</th>\n",
       "      <td>5.807795e-10</td>\n",
       "      <td>2.278167e-11</td>\n",
       "      <td>1.856729e-10</td>\n",
       "      <td>2.657720e-11</td>\n",
       "      <td>2.247066e-10</td>\n",
       "      <td>1.083765e-10</td>\n",
       "      <td>2.295285e-10</td>\n",
       "      <td>4</td>\n",
       "    </tr>\n",
       "  </tbody>\n",
       "</table>\n",
       "</div>"
      ],
      "text/plain": [
       "      crop_land  grazing_land   forest_land  fishing_ground  built_up_land  \\\n",
       "0  1.787946e-02  1.143006e-03  1.017073e-02    1.956717e-03   9.671065e-03   \n",
       "1  2.529569e-10  5.395099e-11  9.484182e-10    4.054509e-11   2.983178e-10   \n",
       "2  7.696329e-10  6.118535e-10  5.239418e-10    2.327940e-10   3.820250e-10   \n",
       "3  6.073681e-02  1.227981e-03  9.427456e-03    3.997563e-02   4.730879e-02   \n",
       "4  5.807795e-10  2.278167e-11  1.856729e-10    2.657720e-11   2.247066e-10   \n",
       "\n",
       "         carbon         total  record  \n",
       "0  2.361315e-03  1.128275e-02       5  \n",
       "1  4.260159e-11  3.946518e-10       6  \n",
       "2  5.283701e-10  8.680348e-10       4  \n",
       "3  2.171889e-02  4.663338e-02       7  \n",
       "4  1.083765e-10  2.295285e-10       4  "
      ]
     },
     "execution_count": 35,
     "metadata": {},
     "output_type": "execute_result"
    }
   ],
   "source": [
    "normalised_train_df.head()"
   ]
  },
  {
   "cell_type": "code",
   "execution_count": 36,
   "metadata": {},
   "outputs": [
    {
     "data": {
      "text/plain": [
       "LogisticRegression()"
      ]
     },
     "execution_count": 36,
     "metadata": {},
     "output_type": "execute_result"
    }
   ],
   "source": [
    "#instantiate the logisticregression model\n",
    "#we also fit the normalised train data with the y_balanced\n",
    "\n",
    "from sklearn.linear_model import LogisticRegression\n",
    "log_reg = LogisticRegression()\n",
    "log_reg.fit(normalised_train_df, Y_balanced)"
   ]
  },
  {
   "cell_type": "code",
   "execution_count": 37,
   "metadata": {},
   "outputs": [
    {
     "data": {
      "text/plain": [
       "LogisticRegression()"
      ]
     },
     "execution_count": 37,
     "metadata": {},
     "output_type": "execute_result"
    }
   ],
   "source": [
    "LogisticRegression(C=1.0, class_weight = None, dual = False, fit_intercept = True, intercept_scaling = 1, l1_ratio = None, max_iter = 100, multi_class = 'auto', n_jobs = None, penalty= 'l2', random_state = None, solver = 'lbfgs', tol = 0.0001, verbose=0, warm_start = False)"
   ]
  },
  {
   "cell_type": "markdown",
   "metadata": {},
   "source": [
    "# "
   ]
  },
  {
   "cell_type": "markdown",
   "metadata": {},
   "source": [
    "# Stage C Lesson 2 Measuring Classification Performance"
   ]
  },
  {
   "cell_type": "markdown",
   "metadata": {},
   "source": [
    "# 1. Cross-Validation and Accuracy"
   ]
  },
  {
   "cell_type": "code",
   "execution_count": 38,
   "metadata": {},
   "outputs": [
    {
     "data": {
      "text/plain": [
       "array([0.49164851, 0.50687856, 0.50179727, 0.57475118, 0.52963801])"
      ]
     },
     "execution_count": 38,
     "metadata": {},
     "output_type": "execute_result"
    }
   ],
   "source": [
    "from sklearn.model_selection import cross_val_score\n",
    "scores = cross_val_score(log_reg, normalised_train_df, Y_balanced, cv=5, scoring = 'f1_macro')\n",
    "scores"
   ]
  },
  {
   "cell_type": "code",
   "execution_count": 39,
   "metadata": {},
   "outputs": [],
   "source": [
    "from sklearn.model_selection import KFold\n",
    "kf = KFold(n_splits=5)\n",
    "kf.split(normalised_train_df)\n",
    "f1_scores = []"
   ]
  },
  {
   "cell_type": "code",
   "execution_count": 40,
   "metadata": {},
   "outputs": [],
   "source": [
    "from sklearn.metrics import confusion_matrix \n",
    "from sklearn.metrics import recall_score, accuracy_score, precision_score, confusion_matrix, f1_score\n",
    "\n",
    "for train_index, test_index in kf.split(normalised_train_df):\n",
    "    X_train, X_test = normalised_train_df.iloc[train_index], normalised_train_df.iloc[test_index]\n",
    "    Y_train, Y_test = Y_balanced[train_index], Y_balanced[test_index]\n",
    "    model = LogisticRegression().fit(X_train, Y_train)\n",
    "    Y_pred = model.predict(X_test)\n",
    "    \n",
    "    f1_scores.append(f1_score(Y_test, Y_pred, pos_label='2A')*100)\n",
    "    "
   ]
  },
  {
   "cell_type": "code",
   "execution_count": 41,
   "metadata": {},
   "outputs": [
    {
     "data": {
      "text/plain": [
       "[55.639097744360896,\n",
       " 66.66666666666667,\n",
       " 47.05882352941176,\n",
       " 50.79365079365079,\n",
       " 0.0]"
      ]
     },
     "execution_count": 41,
     "metadata": {},
     "output_type": "execute_result"
    }
   ],
   "source": [
    "f1_scores"
   ]
  },
  {
   "cell_type": "markdown",
   "metadata": {},
   "source": [
    "# b. Strafied K-Fold Cross Validation"
   ]
  },
  {
   "cell_type": "code",
   "execution_count": 42,
   "metadata": {},
   "outputs": [],
   "source": [
    "from sklearn.model_selection import StratifiedKFold\n",
    "skf = StratifiedKFold(n_splits = 5, shuffle = True, random_state = 1)\n",
    "f1_scores_strat = []"
   ]
  },
  {
   "cell_type": "code",
   "execution_count": 43,
   "metadata": {},
   "outputs": [],
   "source": [
    "for train_index, test_index in skf.split(normalised_train_df, Y_balanced):\n",
    "    X_train, X_test = normalised_train_df.iloc[train_index], normalised_train_df.iloc[test_index]\n",
    "    Y_train, Y_test = Y_balanced[train_index], Y_balanced[test_index]\n",
    "    model = LogisticRegression().fit(X_train, Y_train)\n",
    "    Y_pred = model.predict(X_test)\n",
    "    \n",
    "    f1_scores_strat.append(f1_score(Y_test, Y_pred,pos_label='2A'))"
   ]
  },
  {
   "cell_type": "code",
   "execution_count": 44,
   "metadata": {},
   "outputs": [
    {
     "data": {
      "text/plain": [
       "(62.68507746224905, 44.031647746818024)"
      ]
     },
     "execution_count": 44,
     "metadata": {},
     "output_type": "execute_result"
    }
   ],
   "source": [
    "np.mean(f1_scores_strat)*100, np.mean(f1_scores)"
   ]
  },
  {
   "cell_type": "markdown",
   "metadata": {},
   "source": [
    "# c. Leave One Out Cross Validation (LOOCV)"
   ]
  },
  {
   "cell_type": "code",
   "execution_count": 45,
   "metadata": {},
   "outputs": [
    {
     "data": {
      "text/plain": [
       "0.5002303685482283"
      ]
     },
     "execution_count": 45,
     "metadata": {},
     "output_type": "execute_result"
    }
   ],
   "source": [
    "cross_val_score(LogisticRegression(), normalised_train_df, Y_balanced,cv = skf, scoring='f1_macro').mean()"
   ]
  },
  {
   "cell_type": "code",
   "execution_count": 46,
   "metadata": {},
   "outputs": [],
   "source": [
    "from sklearn.model_selection import LeaveOneOut\n",
    "\n",
    "loo = LeaveOneOut()\n",
    "scores = cross_val_score(LogisticRegression(), normalised_train_df, Y_balanced, cv=loo,scoring= 'f1_macro' )\n",
    "average_score = scores.mean() * 100"
   ]
  },
  {
   "cell_type": "code",
   "execution_count": 47,
   "metadata": {},
   "outputs": [
    {
     "data": {
      "text/plain": [
       "53.42741935483871"
      ]
     },
     "execution_count": 47,
     "metadata": {},
     "output_type": "execute_result"
    }
   ],
   "source": [
    "average_score"
   ]
  },
  {
   "cell_type": "markdown",
   "metadata": {},
   "source": [
    "# i. CONFUSION MATRIX"
   ]
  },
  {
   "cell_type": "markdown",
   "metadata": {},
   "source": [
    "# ii. Accuracy"
   ]
  },
  {
   "cell_type": "code",
   "execution_count": 56,
   "metadata": {},
   "outputs": [],
   "source": [
    "#Noting from Cross Validation, the values of the y_test was re-assigned,\n",
    "#to avoid error code,it is important to resplit this because without it the code throws an error\n",
    "#it is important to note that, it doesn't change values this is the impact of the random_state.\n",
    "\n",
    "X_train, X_test, Y_train, Y_test = train_test_split(X, Y, test_size=0.3, random_state= 0)"
   ]
  },
  {
   "cell_type": "code",
   "execution_count": 57,
   "metadata": {},
   "outputs": [
    {
     "data": {
      "text/plain": [
       "array([[64, 11],\n",
       "       [76, 26]], dtype=int64)"
      ]
     },
     "execution_count": 57,
     "metadata": {},
     "output_type": "execute_result"
    }
   ],
   "source": [
    "from sklearn.metrics import recall_score, accuracy_score, precision_score,f1_score, confusion_matrix\n",
    "\n",
    "new_predictions = log_reg.predict(normalised_test_df)\n",
    "cnf_mat = confusion_matrix(y_true = Y_test, y_pred = new_predictions, labels = ['2A', '3A'])\n",
    "cnf_mat"
   ]
  },
  {
   "cell_type": "code",
   "execution_count": 58,
   "metadata": {},
   "outputs": [
    {
     "name": "stdout",
     "output_type": "stream",
     "text": [
      "Accuracy: 51\n"
     ]
    }
   ],
   "source": [
    "accuracy = accuracy_score(y_true = Y_test, y_pred = new_predictions)\n",
    "print('Accuracy: {}'. format(round(accuracy*100),2))"
   ]
  },
  {
   "cell_type": "markdown",
   "metadata": {},
   "source": [
    "# iii. Precision"
   ]
  },
  {
   "cell_type": "code",
   "execution_count": 50,
   "metadata": {},
   "outputs": [
    {
     "name": "stdout",
     "output_type": "stream",
     "text": [
      "Precision: 46\n"
     ]
    }
   ],
   "source": [
    "precision = precision_score(y_true = Y_test, y_pred = new_predictions, pos_label = '2A' )\n",
    "print('Precision: {}' .format(round(precision*100), 2))"
   ]
  },
  {
   "cell_type": "markdown",
   "metadata": {},
   "source": [
    "# iv. Recall "
   ]
  },
  {
   "cell_type": "code",
   "execution_count": 54,
   "metadata": {},
   "outputs": [
    {
     "name": "stdout",
     "output_type": "stream",
     "text": [
      "Recall: 85\n"
     ]
    }
   ],
   "source": [
    "recall = recall_score(y_true = Y_test, y_pred = new_predictions, pos_label = '2A')\n",
    "print('Recall: {}' .format(round(recall*100), 2))"
   ]
  },
  {
   "cell_type": "markdown",
   "metadata": {},
   "source": [
    "# v. F1- Score"
   ]
  },
  {
   "cell_type": "code",
   "execution_count": 52,
   "metadata": {},
   "outputs": [
    {
     "name": "stdout",
     "output_type": "stream",
     "text": [
      "F1: 60\n"
     ]
    }
   ],
   "source": [
    "f1 = f1_score(y_true = Y_test, y_pred = new_predictions, pos_label = '2A')\n",
    "print('F1: {}' .format(round(f1*100), 2))"
   ]
  },
  {
   "cell_type": "code",
   "execution_count": null,
   "metadata": {},
   "outputs": [],
   "source": []
  }
 ],
 "metadata": {
  "kernelspec": {
   "display_name": "Python 3",
   "language": "python",
   "name": "python3"
  },
  "language_info": {
   "codemirror_mode": {
    "name": "ipython",
    "version": 3
   },
   "file_extension": ".py",
   "mimetype": "text/x-python",
   "name": "python",
   "nbconvert_exporter": "python",
   "pygments_lexer": "ipython3",
   "version": "3.7.7"
  }
 },
 "nbformat": 4,
 "nbformat_minor": 4
}
